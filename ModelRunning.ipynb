{
 "cells": [
  {
   "cell_type": "code",
   "execution_count": 1,
   "metadata": {},
   "outputs": [],
   "source": [
    "from datasaurus import *\n",
    "from fengineer import *"
   ]
  },
  {
   "cell_type": "code",
   "execution_count": 2,
   "metadata": {},
   "outputs": [],
   "source": [
    "#Data Formatting Params\n",
    "stem = 'stem'\n",
    "english = True\n",
    "\n",
    "#Feature Engineering Params\n",
    "tf_idf_rate = 0.2\n",
    "pca_num = 200\n",
    "\n",
    "data_params={'stem': stem, 'english': english, 'tf_idf_rate': tf_idf_rate, 'pca_num': pca_num}"
   ]
  },
  {
   "cell_type": "code",
   "execution_count": 3,
   "metadata": {},
   "outputs": [
    {
     "name": "stderr",
     "output_type": "stream",
     "text": [
      "/Users/griggles/Documents/FLATIRON/project_3/jokes/datasaurus.py:26: SettingWithCopyWarning: \n",
      "A value is trying to be set on a copy of a slice from a DataFrame.\n",
      "Try using .loc[row_indexer,col_indexer] = value instead\n",
      "\n",
      "See the caveats in the documentation: http://pandas.pydata.org/pandas-docs/stable/indexing.html#indexing-view-versus-copy\n",
      "  funnies['label'] = 1\n",
      "/Users/griggles/Documents/FLATIRON/project_3/jokes/datasaurus.py:28: SettingWithCopyWarning: \n",
      "A value is trying to be set on a copy of a slice from a DataFrame.\n",
      "Try using .loc[row_indexer,col_indexer] = value instead\n",
      "\n",
      "See the caveats in the documentation: http://pandas.pydata.org/pandas-docs/stable/indexing.html#indexing-view-versus-copy\n",
      "  duds['label'] = 0\n"
     ]
    }
   ],
   "source": [
    "data = transform_data(sample_data(), stem=stem, english=english)"
   ]
  },
  {
   "cell_type": "code",
   "execution_count": 4,
   "metadata": {},
   "outputs": [],
   "source": [
    "fengineer = Fengineer(tf_idf_rate=tf_idf_rate, pca_num=pca_num)"
   ]
  },
  {
   "cell_type": "code",
   "execution_count": 5,
   "metadata": {
    "scrolled": true
   },
   "outputs": [],
   "source": [
    "data_feng = fengineer.engineer_features(data)"
   ]
  },
  {
   "cell_type": "code",
   "execution_count": 6,
   "metadata": {},
   "outputs": [],
   "source": [
    "target = data_feng['_label']\n",
    "features = data_feng.drop('_label', axis=1)"
   ]
  },
  {
   "cell_type": "code",
   "execution_count": 7,
   "metadata": {},
   "outputs": [],
   "source": [
    "from sklearn.model_selection import train_test_split\n",
    "\n",
    "x_train, x_test, y_train, y_test = train_test_split(features, target, test_size=0.2)"
   ]
  },
  {
   "cell_type": "code",
   "execution_count": 8,
   "metadata": {},
   "outputs": [],
   "source": [
    "from sklearn.metrics import precision_score, recall_score, accuracy_score, f1_score\n",
    "\n",
    "def print_metrics(labels, preds):\n",
    "    print(\"Precision Score: {}\".format(precision_score(labels, preds)))\n",
    "    print(\"Recall Score: {}\".format(recall_score(labels, preds)))\n",
    "    print(\"Accuracy Score: {}\".format(accuracy_score(labels, preds)))\n",
    "    print(\"F1 Score: {}\".format(f1_score(labels, preds)))"
   ]
  },
  {
   "cell_type": "code",
   "execution_count": 21,
   "metadata": {},
   "outputs": [],
   "source": [
    "from sklearn.model_selection import GridSearchCV\n",
    "import os\n",
    "\n",
    "#return the fitted grid search...\n",
    "#model is non-parameterized model to grid search, params are the params of interest\n",
    "#filename is a file to write results to in csv format\n",
    "\n",
    "#TODO: edit so it writes more metrics? idk. \n",
    "def write_results(results, directory, data_params, filename):\n",
    "    if not os.path.exists(directory):\n",
    "        os.makedirs(directory)\n",
    "    df = pd.DataFrame.from_dict(dict(results), orient=\"index\")\n",
    "    data_param_string = '_'.join([str(x) + '-' + str(data_params[x]) for x in data_params.keys()])\n",
    "    df.to_csv(directory + filename + '_' + data_param_string + '.csv')"
   ]
  },
  {
   "cell_type": "code",
   "execution_count": 22,
   "metadata": {},
   "outputs": [],
   "source": [
    "#Use this function to perform grid search! It will automatically write to 'models/' directory.\n",
    "#NOTE: data_params is just the values we used to build the data and do feature engineering... \n",
    "#it gets passed in because we need to make a note of it in the file where the outputs for the model go.\n",
    "\n",
    "def grid_search(model, x_train, y_train, param_grid, data_params, filepath='models/'):\n",
    "    clf = model\n",
    "    gs_tree = GridSearchCV(clf, param_grid, cv=5)\n",
    "    gs_tree.fit(x_train, y_train)\n",
    "    results = gs_tree.cv_results_\n",
    "    model_str = str(model)\n",
    "    model_str = model_str[0:model_str.find('(')]\n",
    "    write_results(results, filepath + model_str + '/', data_params, str(param_grid))\n",
    "    return results"
   ]
  },
  {
   "cell_type": "code",
   "execution_count": 23,
   "metadata": {},
   "outputs": [],
   "source": [
    "# Multinomial Naive Bayes GridSearch - SCOTT: DO THIS ONE, choose some params, follow KNN Grid Search cell "
   ]
  },
  {
   "cell_type": "code",
   "execution_count": 24,
   "metadata": {},
   "outputs": [],
   "source": [
    "# KNN Grid Search\n",
    "from sklearn.neighbors import KNeighborsClassifier\n",
    "knn_clf = KNeighborsClassifier()\n",
    "param_grid = {\n",
    "    'n_neighbors': [1], \n",
    "    'p': [2], \n",
    "    'n_jobs': [5]\n",
    "}\n",
    "results = grid_search(knn_clf, x_train, y_train, param_grid, data_params)"
   ]
  },
  {
   "cell_type": "code",
   "execution_count": null,
   "metadata": {},
   "outputs": [],
   "source": [
    "# Random Forest Grid Search - SCOTT: DO THIS ONE, choose some params, follow KNN Grid Search cell "
   ]
  },
  {
   "cell_type": "code",
   "execution_count": null,
   "metadata": {},
   "outputs": [],
   "source": [
    "# SVM Grid Search"
   ]
  }
 ],
 "metadata": {
  "kernelspec": {
   "display_name": "Python 3",
   "language": "python",
   "name": "python3"
  },
  "language_info": {
   "codemirror_mode": {
    "name": "ipython",
    "version": 3
   },
   "file_extension": ".py",
   "mimetype": "text/x-python",
   "name": "python",
   "nbconvert_exporter": "python",
   "pygments_lexer": "ipython3",
   "version": "3.6.5"
  }
 },
 "nbformat": 4,
 "nbformat_minor": 2
}
