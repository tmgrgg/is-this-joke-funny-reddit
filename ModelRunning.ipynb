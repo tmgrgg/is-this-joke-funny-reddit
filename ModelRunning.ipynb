{
 "cells": [
  {
   "cell_type": "code",
   "execution_count": 1,
   "metadata": {},
   "outputs": [],
   "source": [
    "from datasaurus import *\n",
    "from fengineer import *"
   ]
  },
  {
   "cell_type": "code",
   "execution_count": 2,
   "metadata": {},
   "outputs": [],
   "source": [
    "#Data Formatting Params\n",
    "stem = 'stem'\n",
    "english = True\n",
    "\n",
    "#Feature Engineering Params\n",
    "tf_idf_rate = 0.2\n",
    "pca_num = 200"
   ]
  },
  {
   "cell_type": "code",
   "execution_count": 3,
   "metadata": {},
   "outputs": [
    {
     "name": "stderr",
     "output_type": "stream",
     "text": [
      "/Users/griggles/Documents/FLATIRON/project_3/jokes/datasaurus.py:26: SettingWithCopyWarning: \n",
      "A value is trying to be set on a copy of a slice from a DataFrame.\n",
      "Try using .loc[row_indexer,col_indexer] = value instead\n",
      "\n",
      "See the caveats in the documentation: http://pandas.pydata.org/pandas-docs/stable/indexing.html#indexing-view-versus-copy\n",
      "  funnies['label'] = 1\n",
      "/Users/griggles/Documents/FLATIRON/project_3/jokes/datasaurus.py:28: SettingWithCopyWarning: \n",
      "A value is trying to be set on a copy of a slice from a DataFrame.\n",
      "Try using .loc[row_indexer,col_indexer] = value instead\n",
      "\n",
      "See the caveats in the documentation: http://pandas.pydata.org/pandas-docs/stable/indexing.html#indexing-view-versus-copy\n",
      "  duds['label'] = 0\n"
     ]
    }
   ],
   "source": [
    "data = transform_data(sample_data(), stem=stem, english=english)"
   ]
  },
  {
   "cell_type": "code",
   "execution_count": 4,
   "metadata": {},
   "outputs": [],
   "source": [
    "fengineer = Fengineer(tf_idf_rate=tf_idf_rate, pca_num=pca_num)"
   ]
  },
  {
   "cell_type": "code",
   "execution_count": 5,
   "metadata": {
    "scrolled": true
   },
   "outputs": [],
   "source": [
    "data_feng = fengineer.engineer_features(data)"
   ]
  },
  {
   "cell_type": "code",
   "execution_count": 6,
   "metadata": {},
   "outputs": [],
   "source": [
    "target = data_feng['_label']\n",
    "features = data_feng.drop('_label', axis=1)"
   ]
  },
  {
   "cell_type": "code",
   "execution_count": 7,
   "metadata": {},
   "outputs": [],
   "source": [
    "from sklearn.model_selection import train_test_split\n",
    "\n",
    "x_train, x_test, y_train, y_test = train_test_split(features, target, test_size=0.2)"
   ]
  },
  {
   "cell_type": "code",
   "execution_count": 8,
   "metadata": {},
   "outputs": [],
   "source": [
    "from sklearn.metrics import precision_score, recall_score, accuracy_score, f1_score\n",
    "\n",
    "def print_metrics(labels, preds):\n",
    "    print(\"Precision Score: {}\".format(precision_score(labels, preds)))\n",
    "    print(\"Recall Score: {}\".format(recall_score(labels, preds)))\n",
    "    print(\"Accuracy Score: {}\".format(accuracy_score(labels, preds)))\n",
    "    print(\"F1 Score: {}\".format(f1_score(labels, preds)))"
   ]
  },
  {
   "cell_type": "code",
   "execution_count": 37,
   "metadata": {},
   "outputs": [],
   "source": [
    "from sklearn.model_selection import GridSearchCV\n",
    "\n",
    "#return the fitted grid search...\n",
    "#model is non-parameterized model to grid search, params are the params of interest\n",
    "#filename is a file to write results to in csv format\n",
    "def write_results(results, filename):\n",
    "    df = pd.DataFrame.from_dict(dict(results), orient=\"index\")\n",
    "    df.to_csv(filename + '.csv')\n",
    "    \n",
    "def grid_search(model, x_train, y_train, param_grid, filepath='models/'):\n",
    "    clf = model\n",
    "    gs_tree = GridSearchCV(clf, param_grid, cv=5)\n",
    "    gs_tree.fit(x_train, y_train)\n",
    "    results = gs_tree.cv_results_\n",
    "    write_results(results, filepath + '/' + str(model) + '/' + str(param_grid))\n",
    "    return results"
   ]
  },
  {
   "cell_type": "code",
   "execution_count": null,
   "metadata": {},
   "outputs": [],
   "source": [
    "   # param_grid = {\n",
    "   #     \"criterion\": [\"gini\", \"entropy\"],\n",
    "   #     \"max_depth\": [1, 2, 5, 10],\n",
    "   #     \"min_samples_split\": [1, 5, 10, 20]\n",
    "   # }\n",
    "    #example param_grid for DecisionTreeClassifier"
   ]
  },
  {
   "cell_type": "code",
   "execution_count": 9,
   "metadata": {},
   "outputs": [],
   "source": [
    "# Multinomial Naive Bayes GridSearch"
   ]
  },
  {
   "cell_type": "code",
   "execution_count": null,
   "metadata": {},
   "outputs": [],
   "source": [
    "# KNN Grid Search\n",
    "from sklearn.neighbors import KNeighborsClassifier\n",
    "knn_clf = KNeighborsClassifier()\n",
    "param_grid = {\n",
    "    'n_neighbors': range(1, 2), #10\n",
    "    'p': range(2,4), #3\n",
    "    'n_jobs': [5]\n",
    "}\n",
    "results = grid_search(knn_clf, x_train, y_train, param_grid)"
   ]
  },
  {
   "cell_type": "code",
   "execution_count": 34,
   "metadata": {},
   "outputs": [
    {
     "name": "stdout",
     "output_type": "stream",
     "text": [
      "{'mean_fit_time': array([0.37310596]), 'std_fit_time': array([0.03629228]), 'mean_score_time': array([20.15562296]), 'std_score_time': array([0.78352766]), 'param_n_jobs': masked_array(data=[5],\n",
      "             mask=[False],\n",
      "       fill_value='?',\n",
      "            dtype=object), 'param_n_neighbors': masked_array(data=[1],\n",
      "             mask=[False],\n",
      "       fill_value='?',\n",
      "            dtype=object), 'param_p': masked_array(data=[2],\n",
      "             mask=[False],\n",
      "       fill_value='?',\n",
      "            dtype=object), 'params': [{'n_jobs': 5, 'n_neighbors': 1, 'p': 2}], 'split0_test_score': array([0.57892411]), 'split1_test_score': array([0.57931949]), 'split2_test_score': array([0.57622625]), 'split3_test_score': array([0.58413435]), 'split4_test_score': array([0.57573749]), 'mean_test_score': array([0.57886829]), 'std_test_score': array([0.00299056]), 'rank_test_score': array([1], dtype=int32), 'split0_train_score': array([0.97461747]), 'split1_train_score': array([0.97287817]), 'split2_train_score': array([0.9743696]), 'split3_train_score': array([0.97445316]), 'split4_train_score': array([0.97453601]), 'mean_train_score': array([0.97417088]), 'std_train_score': array([0.00065162])}\n"
     ]
    }
   ],
   "source": [
    "print(dict(results))"
   ]
  },
  {
   "cell_type": "code",
   "execution_count": 13,
   "metadata": {},
   "outputs": [
    {
     "name": "stdout",
     "output_type": "stream",
     "text": [
      "Precision Score: 0.6002381897578404\n",
      "Recall Score: 0.5295044650674138\n",
      "Accuracy Score: 0.5845338046840477\n",
      "F1 Score: 0.5626569913480323\n"
     ]
    }
   ],
   "source": [
    "# Random Forest Grid Search"
   ]
  },
  {
   "cell_type": "code",
   "execution_count": 12,
   "metadata": {},
   "outputs": [],
   "source": [
    "# SVM Grid Search"
   ]
  }
 ],
 "metadata": {
  "kernelspec": {
   "display_name": "Python 3",
   "language": "python",
   "name": "python3"
  },
  "language_info": {
   "codemirror_mode": {
    "name": "ipython",
    "version": 3
   },
   "file_extension": ".py",
   "mimetype": "text/x-python",
   "name": "python",
   "nbconvert_exporter": "python",
   "pygments_lexer": "ipython3",
   "version": "3.6.5"
  }
 },
 "nbformat": 4,
 "nbformat_minor": 2
}
