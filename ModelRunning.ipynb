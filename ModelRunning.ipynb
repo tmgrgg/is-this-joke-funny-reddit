{
 "cells": [
  {
   "cell_type": "code",
   "execution_count": 1,
   "metadata": {},
   "outputs": [],
   "source": [
    "from datasaurus import *\n",
    "from fengineer import *"
   ]
  },
  {
   "cell_type": "code",
   "execution_count": 2,
   "metadata": {},
   "outputs": [
    {
     "name": "stderr",
     "output_type": "stream",
     "text": [
      "/Users/griggles/Documents/FLATIRON/project_3/jokes/datasaurus.py:26: SettingWithCopyWarning: \n",
      "A value is trying to be set on a copy of a slice from a DataFrame.\n",
      "Try using .loc[row_indexer,col_indexer] = value instead\n",
      "\n",
      "See the caveats in the documentation: http://pandas.pydata.org/pandas-docs/stable/indexing.html#indexing-view-versus-copy\n",
      "  funnies['label'] = 1\n",
      "/Users/griggles/Documents/FLATIRON/project_3/jokes/datasaurus.py:28: SettingWithCopyWarning: \n",
      "A value is trying to be set on a copy of a slice from a DataFrame.\n",
      "Try using .loc[row_indexer,col_indexer] = value instead\n",
      "\n",
      "See the caveats in the documentation: http://pandas.pydata.org/pandas-docs/stable/indexing.html#indexing-view-versus-copy\n",
      "  duds['label'] = 0\n"
     ]
    }
   ],
   "source": [
    "data = transform_data(sample_data(), stem='stem', english=True)"
   ]
  },
  {
   "cell_type": "code",
   "execution_count": 3,
   "metadata": {},
   "outputs": [
    {
     "name": "stdout",
     "output_type": "stream",
     "text": [
      "(56574, 6)\n",
      "                                                    _body     _id  _score  \\\n",
      "id                                                                          \n",
      "5tyqag  A young boy says to his father \"Dad, our math ...  5tyqag      62   \n",
      "5txxsu        Should have cooked it on aloha temperature   5txxsu      54   \n",
      "5tx5ur                              So I got her nothing.  5tx5ur      98   \n",
      "5twufa  They start to feel some light precipitation\\n\\...  5twufa     141   \n",
      "5twqzh                          He was a seasoned Veteran  5twqzh     109   \n",
      "\n",
      "                                                   _title  _label  \\\n",
      "id                                                                  \n",
      "5tyqag  I've translated a popular Russian joke to Engl...       1   \n",
      "5txxsu                      Burnt my Hawaiian pizza today       1   \n",
      "5tx5ur  My wife told me \"For Valentine's Day, nothing ...       1   \n",
      "5twufa  A couple are walking in St. Petersburg square ...       1   \n",
      "5twqzh  I met a Soldier that survived Mustard Gas and ...       1   \n",
      "\n",
      "                                                    _joke  \n",
      "id                                                         \n",
      "5tyqag  popular joke hear reaction young boy father da...  \n",
      "5txxsu                       burnt pizza today temperatur  \n",
      "5tx5ur  wife told day noth would make happier diamond ...  \n",
      "5twufa  coupl walk st squar eve start feel light preci...  \n",
      "5twqzh  met soldier mustard gas pepper spray season ve...  \n"
     ]
    }
   ],
   "source": [
    "fengineer = Fengineer(tf_idf_rate=0.2, pca_num=200)\n",
    "print(data.shape)\n",
    "print(data.head())"
   ]
  },
  {
   "cell_type": "code",
   "execution_count": 4,
   "metadata": {
    "scrolled": true
   },
   "outputs": [
    {
     "name": "stdout",
     "output_type": "stream",
     "text": [
      "\n",
      "\\VECT ::: VECT\n",
      "\n",
      "\n",
      "        aa  aam  aardvark  aba  aback  abacus  abandon  abash  abattoir  \\\n",
      "_id                                                                       \n",
      "5tyqag   0    0         0    0      0       0        0      0         0   \n",
      "5txxsu   0    0         0    0      0       0        0      0         0   \n",
      "5tx5ur   0    0         0    0      0       0        0      0         0   \n",
      "5twufa   0    0         0    0      0       0        0      0         0   \n",
      "5twqzh   0    0         0    0      0       0        0      0         0   \n",
      "\n",
      "        abbey  ...    zombi  zone  zoo  zoolog  zoom  zoophil  zorro  \\\n",
      "_id            ...                                                     \n",
      "5tyqag      0  ...        0     0    0       0     0        0      0   \n",
      "5txxsu      0  ...        0     0    0       0     0        0      0   \n",
      "5tx5ur      0  ...        0     0    0       0     0        0      0   \n",
      "5twufa      0  ...        0     0    0       0     0        0      0   \n",
      "5twqzh      0  ...        0     0    0       0     0        0      0   \n",
      "\n",
      "        zucchetto  zucchini  zygot  \n",
      "_id                                 \n",
      "5tyqag          0         0      0  \n",
      "5txxsu          0         0      0  \n",
      "5tx5ur          0         0      0  \n",
      "5twufa          0         0      0  \n",
      "5twqzh          0         0      0  \n",
      "\n",
      "[5 rows x 13904 columns]\n",
      "(56574, 13904)\n",
      "\n",
      "\\TF_IDF ::: TF_IDF\n",
      "\n",
      "\n",
      "        man  said  one  go  get  like  guy  day  back  wife  ...   grief  \\\n",
      "_id                                                          ...           \n",
      "5tyqag    0     1    0   2    1     0    0    2     0     0  ...       0   \n",
      "5txxsu    0     0    0   0    0     0    0    0     0     0  ...       0   \n",
      "5tx5ur    0     0    0   0    0     0    0    1     0     1  ...       0   \n",
      "5twufa    3     0    0   0    0     0    0    0     0     1  ...       0   \n",
      "5twqzh    0     0    0   0    0     0    0    0     0     0  ...       0   \n",
      "\n",
      "        highest  freedom  inner  march  parlor  strawberri  boner  failur  \\\n",
      "_id                                                                         \n",
      "5tyqag        0        0      0      0       0           0      0       0   \n",
      "5txxsu        0        0      0      0       0           0      0       0   \n",
      "5tx5ur        0        0      0      0       0           0      0       0   \n",
      "5twufa        0        0      0      0       0           0      0       0   \n",
      "5twqzh        0        0      0      0       0           0      0       0   \n",
      "\n",
      "        fist  \n",
      "_id           \n",
      "5tyqag     0  \n",
      "5txxsu     0  \n",
      "5tx5ur     0  \n",
      "5twufa     0  \n",
      "5twqzh     0  \n",
      "\n",
      "[5 rows x 2780 columns]\n",
      "(56574, 2780)\n",
      "\n",
      "\\PCA ::: PCA\n",
      "\n",
      "\n",
      "             0         1         2         3         4         5         6    \\\n",
      "_id                                                                            \n",
      "5tyqag  3.058689  1.084361 -4.365653  1.662452  3.160043 -0.555211 -2.939606   \n",
      "5txxsu -0.878085  0.128379  0.236772  0.113636  0.078129  0.030863  0.032349   \n",
      "5tx5ur -0.334203  0.190879 -0.153781  0.141327 -0.105288 -0.148696 -0.257584   \n",
      "5twufa  1.169882 -2.228509  0.987792  0.293232  0.014515 -0.349444 -0.105082   \n",
      "5twqzh -0.877420  0.122016  0.243201  0.113926  0.074674  0.022439  0.047895   \n",
      "\n",
      "             7         8         9      ...          190       191       192  \\\n",
      "_id                                     ...                                    \n",
      "5tyqag -2.219715  1.065336  0.975201    ...    -0.275831 -0.143016 -0.079202   \n",
      "5txxsu -0.015513  0.020997  0.007797    ...    -0.074285 -0.025291  0.019545   \n",
      "5tx5ur  0.243001 -0.443579 -0.306223    ...    -0.043419 -0.038659  0.181256   \n",
      "5twufa  0.436927 -0.777069 -0.294908    ...    -0.063872 -0.007603  0.211616   \n",
      "5twqzh -0.014747  0.014323  0.005525    ...     0.005522 -0.039714  0.007818   \n",
      "\n",
      "             193       194       195       196       197       198       199  \n",
      "_id                                                                           \n",
      "5tyqag  0.177212  0.262041 -0.384173 -0.065963 -0.405446  0.948051  0.167587  \n",
      "5txxsu  0.004000 -0.044478  0.024853  0.063282 -0.090227  0.180526 -0.004248  \n",
      "5tx5ur -0.110711  0.104476 -0.001664  0.071315  0.027762 -0.095133  0.234145  \n",
      "5twufa  0.326632 -0.215551  0.012564 -0.183707  0.141004 -0.346321  0.051937  \n",
      "5twqzh  0.028308  0.004618 -0.024175 -0.015147  0.003278 -0.025032 -0.019506  \n",
      "\n",
      "[5 rows x 200 columns]\n",
      "(56574, 200)\n"
     ]
    }
   ],
   "source": [
    "data_feng = fengineer.engineer_features(data)"
   ]
  }
 ],
 "metadata": {
  "kernelspec": {
   "display_name": "Python 3",
   "language": "python",
   "name": "python3"
  },
  "language_info": {
   "codemirror_mode": {
    "name": "ipython",
    "version": 3
   },
   "file_extension": ".py",
   "mimetype": "text/x-python",
   "name": "python",
   "nbconvert_exporter": "python",
   "pygments_lexer": "ipython3",
   "version": "3.6.5"
  }
 },
 "nbformat": 4,
 "nbformat_minor": 2
}
